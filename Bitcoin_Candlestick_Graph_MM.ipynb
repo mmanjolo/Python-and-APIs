{
 "cells": [
  {
   "cell_type": "markdown",
   "id": "4855ee09",
   "metadata": {},
   "source": [
    "*This Notebook was created in Python 3.9.2*"
   ]
  },
  {
   "cell_type": "markdown",
   "id": "fe5417bf",
   "metadata": {},
   "source": [
    "### Goal\n",
    "\n",
    "This notebook uses the CoinGecko API to create a candlestick graph for Bitcoin prices. Data valid as at the time of running the notebook"
   ]
  },
  {
   "cell_type": "code",
   "execution_count": null,
   "id": "0d9eea40",
   "metadata": {},
   "outputs": [],
   "source": [
    "# Library Import\n",
    "\n",
    "import pandas as pd\n",
    "import numpy as np\n",
    "import plotly.graph_objects as go\n",
    "from plotly.offline import plot\n",
    "import matplotlib.pyplot as plt\n",
    "import datetime\n",
    "from pycoingecko import CoinGeckoAPI\n",
    "from mplfinance.original_flavor import candlestick2_ohlc"
   ]
  },
  {
   "cell_type": "code",
   "execution_count": null,
   "id": "6511714b",
   "metadata": {},
   "outputs": [],
   "source": [
    "# Data collection\n",
    "\n",
    "cg = CoinGeckoAPI()\n",
    "\n",
    "bitcoin_data = cg.get_coin_market_chart_by_id(id='bitcoin', vs_currency='usd', days=30)"
   ]
  },
  {
   "cell_type": "code",
   "execution_count": null,
   "id": "a93b6ff8",
   "metadata": {},
   "outputs": [],
   "source": [
    "# Extracting relevant data and creation of DataFrame\n",
    "\n",
    "btc_prices = bitcoin_data['prices'] # Filtering for pricing data only\n",
    "data = pd.DataFrame(btc_prices, columns=['TimeStamp', 'Price']) # Creation of DataFrame\n",
    "data.head()"
   ]
  },
  {
   "cell_type": "code",
   "execution_count": null,
   "id": "83720c21",
   "metadata": {},
   "outputs": [],
   "source": [
    "# Conversation of timestamp data into datatime data under new column \"Date\"\n",
    "\n",
    "data['Date'] = pd.to_datetime(data['TimeStamp'], unit = 'ms')\n",
    "\n",
    "# Grouping data by date to find the max, min, open and close prices\n",
    "\n",
    "cs_data = data.groupby(data.Date.dt.date, as_index=False).agg({'Price': ['min','max', 'first', 'last']})\n",
    "cs_data.head()"
   ]
  },
  {
   "cell_type": "markdown",
   "id": "648bb14b",
   "metadata": {},
   "source": [
    "### Final BitCoin Graph"
   ]
  },
  {
   "cell_type": "code",
   "execution_count": null,
   "id": "a4a5d832",
   "metadata": {},
   "outputs": [],
   "source": [
    "fig = go.Figure(data = [go.Candlestick(x = data['Date'],\n",
    "                open = cs_data['Price']['first'],\n",
    "                high = cs_data['Price']['max'],\n",
    "                low = cs_data['Price']['min'],\n",
    "                close = cs_data['Price']['last'])\n",
    "                ])\n",
    "\n",
    "fig.update_layout(xaxis_rangeslider_visible = False)\n",
    "fig.show()"
   ]
  }
 ],
 "metadata": {
  "kernelspec": {
   "display_name": "Python 3",
   "language": "python",
   "name": "python3"
  },
  "language_info": {
   "codemirror_mode": {
    "name": "ipython",
    "version": 3
   },
   "file_extension": ".py",
   "mimetype": "text/x-python",
   "name": "python",
   "nbconvert_exporter": "python",
   "pygments_lexer": "ipython3",
   "version": "3.9.2"
  }
 },
 "nbformat": 4,
 "nbformat_minor": 5
}
